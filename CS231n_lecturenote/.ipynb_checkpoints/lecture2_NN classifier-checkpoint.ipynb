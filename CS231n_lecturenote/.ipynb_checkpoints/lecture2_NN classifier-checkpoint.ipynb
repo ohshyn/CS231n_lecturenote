{
 "cells": [
  {
   "cell_type": "code",
   "execution_count": 1,
   "metadata": {},
   "outputs": [],
   "source": [
    "import numpy as np"
   ]
  },
  {
   "cell_type": "code",
   "execution_count": null,
   "metadata": {},
   "outputs": [],
   "source": [
    "class NearestNeigbor:\n",
    "    def __init__(self):\n",
    "        pass\n",
    "    \n",
    "    def train(self, X, y):\n",
    "        # X: N*D, 각 행이 example\n",
    "        # Y: N*1\n",
    "        \n",
    "        # NN의 classifier는 단순히 모든 데이터들을 저장.\n",
    "        self.X_tr = X # 데이터\n",
    "        self.y_tr = y # 라벨\n",
    "        \n",
    "    def predict(self, X):\n",
    "        # X: N*D, 각행이 example ... 우리가 예측하려는 대상\n",
    "        \n",
    "        nums_test = X.shape[0]\n",
    "        \n",
    "        # 예측 결과 저장변수 초기화\n",
    "        Y_pred = np.zeros(num_test, dtype=self.y_tr.dtype)\n",
    "        \n",
    "        # 모든 row에 대해 확인\n",
    "        for i in xrange(num_test):\n",
    "            # i'th 테스트 이미지에 대해 가장 가까운 훈련 이미지를 찾자\n",
    "            # L1 dist 사용\n",
    "            dist = np.sum(np.abs(self.X_tr - X[i,:]), axis=1)\n",
    "            min_idx = np.argmin(distances) # 가장 작은 l1 dist를 가지는 idx 확보\n",
    "            Y_pred[i] = self.ytr[min_idx] # 가장 가까운 훈련데이터의 라벨로 예측\n",
    "        \n",
    "        return Y_pred"
   ]
  }
 ],
 "metadata": {
  "kernelspec": {
   "display_name": "PyTorch",
   "language": "python",
   "name": "pytorch"
  },
  "language_info": {
   "codemirror_mode": {
    "name": "ipython",
    "version": 3
   },
   "file_extension": ".py",
   "mimetype": "text/x-python",
   "name": "python",
   "nbconvert_exporter": "python",
   "pygments_lexer": "ipython3",
   "version": "3.8.5"
  }
 },
 "nbformat": 4,
 "nbformat_minor": 4
}
